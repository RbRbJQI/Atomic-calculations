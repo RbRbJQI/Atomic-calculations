{
 "cells": [
  {
   "cell_type": "code",
   "execution_count": 24,
   "metadata": {},
   "outputs": [],
   "source": [
    "hbar = 1.0545718e-34\n",
    "h = hbar*np.pi*2"
   ]
  },
  {
   "cell_type": "code",
   "execution_count": 22,
   "metadata": {},
   "outputs": [],
   "source": [
    "import numpy as np\n",
    "Eg = np.array([0, -4.271676631e9, 2.563005979e9])\n",
    "Ee = np.array([-302.0738e6, -229.8518e6, -72.9113e6, 193.7408e6])\n",
    "Ee +=  384.2304844685e12\n",
    "dE = np.zeros((len(Ee), len(Eg)))\n",
    "for (Fp, F), value in np.ndenumerate(dE):\n",
    "    dE[Fp, F] = Ee[Fp] - Eg[F]\n",
    "\n",
    "def scalar_p(w):\n",
    "    a_s = [0, 0, 0]\n",
    "    a_s[1] += dE[0,1]/(dE[0,1]**2-w**2)/9\n",
    "    a_s[1] += dE[1,1]/(dE[1,1]**2-w**2)*5/18\n",
    "    a_s[1] += dE[2,1]/(dE[2,1]**2-w**2)*5/18\n",
    "    \n",
    "    a_s[2] += dE[1,2]/(dE[1,2]**2-w**2)*1/30\n",
    "    a_s[2] += dE[2,2]/(dE[2,2]**2-w**2)*1/6\n",
    "    a_s[2] += dE[3,2]/(dE[3,2]**2-w**2)*7/15\n",
    "    return np.array(a_s)\n",
    "    \n",
    "def vector_p(w):\n",
    "    a_p = [0,0,0]\n",
    "    a_p[1] += dE[0,1]/(dE[0,1]**2-w**2)*(-1)/6\n",
    "    a_p[1] += dE[1,1]/(dE[1,1]**2-w**2)*(-5/24)\n",
    "    a_p[1] += dE[2,1]/(dE[2,1]**2-w**2)*5/24\n",
    "    \n",
    "    a_p[2] += dE[1,2]/(dE[1,2]**2-w**2)*(-1/20)\n",
    "    a_p[2] += dE[2,2]/(dE[2,2]**2-w**2)*(-1/12)\n",
    "    a_p[2] += dE[3,2]/(dE[3,2]**2-w**2)*7/15\n",
    "    return np.array(a_p)"
   ]
  },
  {
   "cell_type": "code",
   "execution_count": 27,
   "metadata": {},
   "outputs": [
    {
     "name": "stdout",
     "output_type": "stream",
     "text": [
      "[  -0.         1965.2005725  1839.50899987]\n"
     ]
    }
   ],
   "source": [
    "#light shift\n",
    "wL =  384.2304844685e12 + 100e9\n",
    "Omeg = 2*np.pi*600e6\n",
    "L_s = -1/4*scalar_p(wL) * Omeg**2 * hbar\n",
    "print(L_s/h/1e3)"
   ]
  },
  {
   "cell_type": "code",
   "execution_count": null,
   "metadata": {},
   "outputs": [],
   "source": []
  }
 ],
 "metadata": {
  "kernelspec": {
   "display_name": "Python 3",
   "language": "python",
   "name": "python3"
  },
  "language_info": {
   "codemirror_mode": {
    "name": "ipython",
    "version": 3
   },
   "file_extension": ".py",
   "mimetype": "text/x-python",
   "name": "python",
   "nbconvert_exporter": "python",
   "pygments_lexer": "ipython3",
   "version": "3.7.0"
  }
 },
 "nbformat": 4,
 "nbformat_minor": 2
}
